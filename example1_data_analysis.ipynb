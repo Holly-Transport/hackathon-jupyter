{
 "cells": [
  {
   "cell_type": "code",
   "execution_count": 1,
   "metadata": {
    "collapsed": false
   },
   "outputs": [
    {
     "name": "stdout",
     "output_type": "stream",
     "text": [
      "Downloading data/cebu/week_2015-12-28.csv...\n",
      "Downloaded data/cebu/week_2015-12-28.csv (4755033 lines)\n"
     ]
    }
   ],
   "source": [
    "# run this first to load a data file from the hackathon S3 bucket\n",
    "\n",
    "# data is for \"cebu\" and \"manila\" for 2016, split by week\n",
    "# see \"data_list.txt\" for a complete list of avaialble files\n",
    "\n",
    "import data # import download utils in ./data.py\n",
    "\n",
    "# download weekly data file\n",
    "path = data.getData(\"cebu\", \"2015-12-28\")"
   ]
  },
  {
   "cell_type": "code",
   "execution_count": 2,
   "metadata": {
    "collapsed": false
   },
   "outputs": [
    {
     "name": "stdout",
     "output_type": "stream",
     "text": [
      "date, edge_id, day_of_week, hour_of_day, avg_speed\n",
      "2015-12-31, 1001709331, 3, 22, 2.50\n",
      "2016-01-03, 1001709345, 6, 7, 6.50\n",
      "2016-01-03, 1001709345, 6, 19, 1.50\n",
      "2016-01-01, 1001705785, 4, 11, 23.50\n",
      "2015-12-29, 1001705786, 1, 22, 18.50\n",
      "2016-01-01, 1001705785, 4, 11, 23.50\n",
      "2015-12-29, 1001705786, 1, 22, 18.50\n",
      "2016-01-01, 1001705785, 4, 11, 23.50\n",
      "2015-12-29, 1001705786, 1, 22, 18.50\n",
      "2015-12-29, 1001664325, 1, 3, 1.50\n"
     ]
    }
   ],
   "source": [
    "# once a file is loaded use this to view the first few lines\n",
    "\n",
    "import csv\n",
    "\n",
    "# load csv file and print first ten lines\n",
    "\n",
    "with open(path, \"rb\") as csvfile:\n",
    "    dataReader = csv.reader(csvfile, delimiter=',')\n",
    "\n",
    "    #\n",
    "    rowCount = 0\n",
    "    for row in dataReader:\n",
    "        print ', '.join(row)\n",
    "        rowCount += 1\n",
    "        if rowCount > 10:\n",
    "            break\n",
    "\n",
    "    csvfile.close()\n"
   ]
  },
  {
   "cell_type": "code",
   "execution_count": 3,
   "metadata": {
    "collapsed": false
   },
   "outputs": [
    {
     "name": "stdout",
     "output_type": "stream",
     "text": [
      "Processing...\n",
      "Average speeds by day (kph):\n",
      "Mon: 25.2782757264\n",
      "Tues: 24.8899695606\n",
      "Weds: 24.7548416524\n",
      "Thurs: 24.617762767\n",
      "Fri: 24.6281454738\n",
      "Sat: 25.0311064731\n",
      "Sun: 26.3122175455\n"
     ]
    }
   ],
   "source": [
    "import numpy\n",
    "\n",
    "# load csv file and calculate daily average speed\n",
    "\n",
    "days = ['Mon', 'Tues', 'Weds', 'Thurs', 'Fri', 'Sat', 'Sun']\n",
    "\n",
    "with open(path, \"rb\") as csvfile:\n",
    "    dataReader = csv.reader(csvfile, delimiter=',')\n",
    "    # return to top of file\n",
    "    csvfile.seek(0)\n",
    "\n",
    "    # skip csv header\n",
    "    next(dataReader, None)\n",
    "\n",
    "    # create daily average speed\n",
    "    # In CSV day_of_week is a number from 0 to 6 representing day of week (0 = monday, 6=sunday)\n",
    "\n",
    "    # there are lots of rows in the files\n",
    "    # not feasible to keep all the numbers in memroy, let's calculate a running average instead\n",
    "    dayOfWeekCount = numpy.zeros(7)\n",
    "    dayOfWeekSum = numpy.zeros(7)\n",
    "\n",
    "    dayOfWeekAvg = numpy.zeros(7)\n",
    "\n",
    "    print \"Processing...\"\n",
    "\n",
    "    rowCount = 0\n",
    "    for row in dataReader:\n",
    "        # increment the count for day of week\n",
    "        dayOfWeekCount[int(row[2])] += 1\n",
    "\n",
    "        #increment sum for speed\n",
    "        dayOfWeekSum[int(row[2])] += float(row[4])\n",
    "\n",
    "\n",
    "\n",
    "    csvfile.close()\n",
    "\n",
    "    print \"Average speeds by day (kph):\"\n",
    "\n",
    "    # loop over arrays and calculate averages\n",
    "    for day in range(0,7):\n",
    "        if dayOfWeekCount[day] == 0:\n",
    "            print days[day] + \": (no data)\"\n",
    "        else:\n",
    "            averageSpeed = dayOfWeekSum[day] / dayOfWeekCount[day]\n",
    "\n",
    "            dayOfWeekAvg[day] = averageSpeed\n",
    "            print days[day] + \": \" + str(averageSpeed)\n",
    "\n",
    "\n"
   ]
  },
  {
   "cell_type": "code",
   "execution_count": 4,
   "metadata": {
    "collapsed": false
   },
   "outputs": [
    {
     "name": "stdout",
     "output_type": "stream",
     "text": [
      "Processing...\n",
      "Average speeds by hour of day (kph):\n",
      "0: 28.5521958388\n",
      "1: 30.159753268\n",
      "2: 31.2186392225\n",
      "3: 31.7999383614\n",
      "4: 30.9081190649\n",
      "5: 29.6909303726\n",
      "6: 27.0200437659\n",
      "7: 24.7745464369\n",
      "8: 24.3639551084\n",
      "9: 23.8050444552\n",
      "10: 23.674758713\n",
      "11: 23.6664346777\n",
      "12: 24.0220475828\n",
      "13: 24.0007665323\n",
      "14: 23.443511155\n",
      "15: 22.8919104281\n",
      "16: 22.1441813486\n",
      "17: 21.3324536062\n",
      "18: 21.0921663624\n",
      "19: 22.0492477638\n",
      "20: 22.9284215609\n",
      "21: 23.8180028013\n",
      "22: 25.068702444\n",
      "23: 27.12169148\n"
     ]
    }
   ],
   "source": [
    "import numpy\n",
    "\n",
    "# load csv file and calculate hourly average speed\n",
    "\n",
    "with open(path, \"rb\") as csvfile:\n",
    "    dataReader = csv.reader(csvfile, delimiter=',')\n",
    "    # return to top of file\n",
    "    csvfile.seek(0)\n",
    "\n",
    "    # skip csv header\n",
    "    next(dataReader, None)\n",
    "\n",
    "    # create daily average speed\n",
    "    # In CSV hour_of_day is a number from 0 to 23, representing the hour bin for data\n",
    "    # hours are expressed in UTC, Cebu and Manila are UTC+8 so the hour needs to be adjusted to local time\n",
    "\n",
    "    utcAdustment = 8\n",
    "\n",
    "    # there are lots of rows in the files\n",
    "    # not feasible to keep all the numbers in memroy, let's calculate a running average instead\n",
    "    hourOfDayCount = numpy.zeros(24)\n",
    "    hourOfDaySum = numpy.zeros(24)\n",
    "\n",
    "    hourOfDayAvg = numpy.zeros(24)\n",
    "\n",
    "    print \"Processing...\"\n",
    "\n",
    "    rowCount = 0\n",
    "    for row in dataReader:\n",
    "\n",
    "        # adjust time from UTC to UTC+8 local time\n",
    "\n",
    "        hour = int(row[3]) + utcAdustment\n",
    "\n",
    "        # if hour is next day wrap to 24 hours e.g. 26:00 becomes 02:00 the next day\n",
    "        if hour > 23:\n",
    "            hour -= 24\n",
    "\n",
    "        # increment the count for day of week\n",
    "        hourOfDayCount[hour] += 1\n",
    "\n",
    "        #increment sum for speed\n",
    "        hourOfDaySum[hour] += float(row[4])\n",
    "\n",
    "\n",
    "\n",
    "    csvfile.close()\n",
    "\n",
    "    print \"Average speeds by hour of day (kph):\"\n",
    "\n",
    "    # loop over arrays and calculate averages\n",
    "    for hour in range(0,24):\n",
    "        if hourOfDayCount[hour] == 0:\n",
    "            print hour[hour] + \": (no data)\"\n",
    "        else:\n",
    "            averageSpeed = hourOfDaySum[hour] / hourOfDayCount[hour]\n",
    "\n",
    "            hourOfDayAvg[hour] = averageSpeed\n",
    "            print str(hour) + \": \" + str(averageSpeed)"
   ]
  },
  {
   "cell_type": "code",
   "execution_count": null,
   "metadata": {
    "collapsed": true
   },
   "outputs": [],
   "source": []
  }
 ],
 "metadata": {
  "kernelspec": {
   "display_name": "Python 2",
   "language": "python",
   "name": "python2"
  },
  "language_info": {
   "codemirror_mode": {
    "name": "ipython",
    "version": 2
   },
   "file_extension": ".py",
   "mimetype": "text/x-python",
   "name": "python",
   "nbconvert_exporter": "python",
   "pygments_lexer": "ipython2",
   "version": "2.7.12"
  }
 },
 "nbformat": 4,
 "nbformat_minor": 2
}
