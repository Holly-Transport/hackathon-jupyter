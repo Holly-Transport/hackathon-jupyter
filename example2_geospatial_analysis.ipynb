{
 "cells": [
  {
   "cell_type": "code",
   "execution_count": 34,
   "metadata": {
    "collapsed": false,
    "deletable": true,
    "editable": true
   },
   "outputs": [
    {
     "name": "stdout",
     "output_type": "stream",
     "text": [
      "File cebu_geometry.shp already downloaded.\n"
     ]
    }
   ],
   "source": [
    "import data \n",
    "\n",
    "shpFile = data.getGeoData(\"cebu\")"
   ]
  },
  {
   "cell_type": "code",
   "execution_count": 36,
   "metadata": {
    "collapsed": false,
    "deletable": true,
    "editable": true
   },
   "outputs": [
    {
     "name": "stdout",
     "output_type": "stream",
     "text": [
      "Total shape records: 47675\n"
     ]
    }
   ],
   "source": [
    "# load shapefile data\n",
    "import shapefile\n",
    "\n",
    "shapeData = shapefile.Reader(shpFile)\n",
    "records = shapeData.shapeRecords()\n",
    "\n",
    "# print number of records \n",
    "print \"Total shape records: \" + str(len(records))\n"
   ]
  },
  {
   "cell_type": "code",
   "execution_count": 39,
   "metadata": {
    "collapsed": false,
    "deletable": true,
    "editable": true
   },
   "outputs": [
    {
     "name": "stdout",
     "output_type": "stream",
     "text": [
      "POLYGON ((123.888144493103 10.30563036038582, 123.9008259773254 10.30563036038582, 123.9008259773254 10.31789590621363, 123.888144493103 10.31789590621363, 123.888144493103 10.30563036038582))\n"
     ]
    }
   ],
   "source": [
    "# load bounding box from geojson file, created using geojson.io \n",
    "# https://gist.github.com/anonymous/3d160c1955a8d31fd5f8d5e298248cde\n",
    "\n",
    "import json\n",
    "from shapely.geometry import mapping, shape\n",
    "\n",
    "# load geojson file from project\n",
    "with open (\"example2.geojson\", \"r\") as myfile:\n",
    "    featureCollection=myfile.read()\n",
    "    \n",
    "    # geojson.io creates FeatureCollection, extracting the first geometry object from the collection\n",
    "    geoJsonData = json.loads(featureCollection)['features'][0]['geometry']\n",
    "    \n",
    "    # createa shape \n",
    "    boundingBox = shape(geoJsonData)\n",
    "  \n",
    "print boundingBox"
   ]
  },
  {
   "cell_type": "code",
   "execution_count": 17,
   "metadata": {
    "collapsed": false,
    "deletable": true,
    "editable": true
   },
   "outputs": [],
   "source": [
    "# optional: visualize geoJson bounding box (requries ipyleaflet module)\n",
    "\n",
    "from ipyleaflet import (\n",
    "    Map,\n",
    "    GeoJSON\n",
    ")\n",
    "\n",
    "center = [boundingBox.centroid.y, boundingBox.centroid.x]\n",
    "\n",
    "# create \n",
    "mapObj = Map(center=center, zoom=13)\n",
    "\n",
    "geoJsonLayer = GeoJSON(data=geoJsonData)\n",
    "mapObj.add_layer(geoJsonLayer)\n",
    "\n",
    "#display map\n",
    "mapObj"
   ]
  },
  {
   "cell_type": "code",
   "execution_count": 42,
   "metadata": {
    "collapsed": false,
    "deletable": true,
    "editable": true
   },
   "outputs": [
    {
     "name": "stdout",
     "output_type": "stream",
     "text": [
      "Shapes within bounding box: 736\n"
     ]
    }
   ],
   "source": [
    "from shapely.geometry import mapping, shape\n",
    "\n",
    "edgeIds = dict()\n",
    "\n",
    "for shapeRecord in records:\n",
    "    s = shape(shapeRecord.shape)\n",
    "    if boundingBox.intersects(s):\n",
    "        edgeIds[shapeRecord.record[0]] = True\n",
    "        \n",
    "print \"Shapes within bounding box: \" + str(len(edgeIds))\n",
    "        "
   ]
  },
  {
   "cell_type": "code",
   "execution_count": 49,
   "metadata": {
    "collapsed": false,
    "deletable": true,
    "editable": true
   },
   "outputs": [
    {
     "name": "stdout",
     "output_type": "stream",
     "text": [
      "File data/cebu/week_2015-12-28.csv already downloaded.\n",
      "Processing...\n",
      "Average speeds for matching edges by day (kph):\n",
      "Mon: 20.4482250608\n",
      "Tues: 20.1066177024\n",
      "Weds: 20.0799784493\n",
      "Thurs: 20.1287169318\n",
      "Fri: 20.4148617169\n",
      "Sat: 21.1637792642\n",
      "Sun: 22.4987028177\n"
     ]
    }
   ],
   "source": [
    "# calculate average speed by day of week for edges found within bounding box\n",
    "\n",
    "import numpy, csv\n",
    "\n",
    "# load csv file and calculate daily average speed\n",
    "\n",
    "days = ['Mon', 'Tues', 'Weds', 'Thurs', 'Fri', 'Sat', 'Sun']\n",
    "\n",
    "# download weekly data file\n",
    "path = data.getData(\"cebu\", \"2015-12-28\")\n",
    "\n",
    "with open(path, \"rb\") as csvfile:\n",
    "    dataReader = csv.reader(csvfile, delimiter=',')\n",
    "    # return to top of file\n",
    "    csvfile.seek(0)\n",
    "\n",
    "    # skip csv header\n",
    "    next(dataReader, None)\n",
    "\n",
    "    # create daily average speed\n",
    "    # In CSV day_of_week is a number from 0 to 6 representing day of week (0 = monday, 6=sunday)\n",
    "\n",
    "    # there are lots of rows in the files\n",
    "    # not feasible to keep all the numbers in memroy, let's calculate a running average instead\n",
    "    dayOfWeekCount = numpy.zeros(7)\n",
    "    dayOfWeekSum = numpy.zeros(7)\n",
    "\n",
    "    dayOfWeekAvg = numpy.zeros(7)\n",
    "\n",
    "    print \"Processing...\"\n",
    "\n",
    "    rowCount = 0\n",
    "    for row in dataReader:\n",
    "        \n",
    "        # only count rows with edgeIds found within the bounding box\n",
    "        if int(row[1]) in edgeIds:\n",
    "            # increment the count for day of week\n",
    "            dayOfWeekCount[int(row[2])] += 1\n",
    "\n",
    "            #increment sum for speed\n",
    "            dayOfWeekSum[int(row[2])] += float(row[4])\n",
    "\n",
    "    csvfile.close()\n",
    "\n",
    "    print \"Average speeds for matching edges by day (kph):\"\n",
    "\n",
    "    # loop over arrays and calculate averages\n",
    "    for day in range(0,7):\n",
    "        if dayOfWeekCount[day] == 0:\n",
    "            print days[day] + \": (no data)\"\n",
    "        else:\n",
    "            averageSpeed = dayOfWeekSum[day] / dayOfWeekCount[day]\n",
    "\n",
    "            dayOfWeekAvg[day] = averageSpeed\n",
    "            print days[day] + \": \" + str(averageSpeed)"
   ]
  },
  {
   "cell_type": "code",
   "execution_count": null,
   "metadata": {
    "collapsed": true
   },
   "outputs": [],
   "source": []
  }
 ],
 "metadata": {
  "kernelspec": {
   "display_name": "Python 2",
   "language": "python",
   "name": "python2"
  },
  "language_info": {
   "codemirror_mode": {
    "name": "ipython",
    "version": 2
   },
   "file_extension": ".py",
   "mimetype": "text/x-python",
   "name": "python",
   "nbconvert_exporter": "python",
   "pygments_lexer": "ipython2",
   "version": "2.7.12"
  },
  "widgets": {
   "state": {
    "57b2627386dc4ace95d5a4bf69543f02": {
     "views": [
      {
       "cell_index": 3
      }
     ]
    }
   },
   "version": "1.2.0"
  }
 },
 "nbformat": 4,
 "nbformat_minor": 2
}
